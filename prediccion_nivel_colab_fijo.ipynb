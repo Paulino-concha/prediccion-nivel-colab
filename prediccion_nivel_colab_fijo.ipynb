{
 "cells": [
  {
   "cell_type": "code",
   "execution_count": null,
   "id": "0794bd07",
   "metadata": {},
   "outputs": [],
   "source": [
    "\n",
    "# 🔹 1. Reparar conflictos de dependencias en Colab y fijar versiones correctas\n",
    "!pip uninstall -y scikit-learn numpy\n",
    "!pip install --no-cache-dir scikit-learn==1.1.3 numpy==1.23.5 joblib pandas matplotlib\n"
   ]
  },
  {
   "cell_type": "code",
   "execution_count": null,
   "id": "c7d63799",
   "metadata": {},
   "outputs": [],
   "source": [
    "\n",
    "import pandas as pd\n",
    "import numpy as np\n",
    "import matplotlib.pyplot as plt\n",
    "import joblib\n",
    "from google.colab import files\n",
    "\n",
    "print(\"✅ Librerías cargadas correctamente\")\n"
   ]
  },
  {
   "cell_type": "code",
   "execution_count": null,
   "id": "782a3816",
   "metadata": {},
   "outputs": [],
   "source": [
    "\n",
    "# 🔹 Subir archivo CSV\n",
    "uploaded_data = files.upload()\n",
    "data_filename = list(uploaded_data.keys())[0]\n",
    "\n",
    "# Leer CSV\n",
    "df = pd.read_csv(data_filename)\n",
    "print(\"✅ Datos cargados:\", df.shape)\n",
    "df.head()\n"
   ]
  },
  {
   "cell_type": "code",
   "execution_count": null,
   "id": "5f95eaec",
   "metadata": {},
   "outputs": [],
   "source": [
    "\n",
    "# 🔹 Subir archivo del modelo entrenado (.pkl)\n",
    "uploaded_model = files.upload()\n",
    "model_filename = list(uploaded_model.keys())[0]\n",
    "\n",
    "# Cargar modelo\n",
    "modelo = joblib.load(model_filename)\n",
    "print(\"✅ Modelo cargado correctamente\")\n"
   ]
  },
  {
   "cell_type": "code",
   "execution_count": null,
   "id": "b006a80b",
   "metadata": {},
   "outputs": [],
   "source": [
    "\n",
    "# 🔹 Usar las 3 variables TPH_SACRIFICIO para predecir NIVEL_DCM\n",
    "X = df[['TPH_SACRIFICIO_1', 'TPH_SACRIFICIO_2', 'TPH_SACRIFICIO_3']]\n",
    "y_real = df['NIVEL_DCM']\n",
    "\n",
    "y_pred = modelo.predict(X)\n",
    "\n",
    "# Calcular error\n",
    "error_promedio = np.mean(np.abs(y_real - y_pred))\n",
    "print(f\"📏 Error promedio: {error_promedio:.2f}\")\n",
    "\n",
    "# Graficar 8 horas de datos y 1 hora de predicción\n",
    "plt.figure(figsize=(12,6))\n",
    "plt.plot(y_real[:480], label='Nivel real')\n",
    "plt.plot(y_pred[:480], label='Predicción', linestyle='--')\n",
    "plt.xlabel('Tiempo (minutos)')\n",
    "plt.ylabel('Nivel')\n",
    "plt.title('Predicción de Nivel - 8h de datos, 1h de proyección')\n",
    "plt.legend()\n",
    "plt.show()\n"
   ]
  }
 ],
 "metadata": {},
 "nbformat": 4,
 "nbformat_minor": 5
}