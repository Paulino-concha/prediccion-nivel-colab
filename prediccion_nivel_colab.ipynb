{
 "cells": [
  {
   "cell_type": "markdown",
   "id": "a3e744a2",
   "metadata": {},
   "source": [
    "# 📊 Predicción de Nivel de Tolva - Google Colab\n",
    "Este notebook carga un modelo entrenado y predice el nivel de una tolva a 1 hora adelante."
   ]
  },
  {
   "cell_type": "code",
   "execution_count": null,
   "id": "5c0d301c",
   "metadata": {},
   "outputs": [],
   "source": [
    "\n",
    "# 🔹 1. Instalar dependencias necesarias\n",
    "!pip install scikit-learn pandas matplotlib joblib\n"
   ]
  },
  {
   "cell_type": "code",
   "execution_count": null,
   "id": "24eb9be5",
   "metadata": {},
   "outputs": [],
   "source": [
    "\n",
    "# 🔹 2. Importar librerías\n",
    "import pandas as pd\n",
    "import joblib\n",
    "import matplotlib.pyplot as plt\n",
    "from google.colab import files\n"
   ]
  },
  {
   "cell_type": "code",
   "execution_count": null,
   "id": "9f56b1e3",
   "metadata": {},
   "outputs": [],
   "source": [
    "\n",
    "# 🔹 3. Subir el modelo entrenado (.pkl)\n",
    "print(\"Sube el archivo modelo_prediccion_nivel.pkl\")\n",
    "uploaded_model = files.upload()\n",
    "modelo = joblib.load(list(uploaded_model.keys())[0])\n",
    "print(\"✅ Modelo cargado correctamente\")\n"
   ]
  },
  {
   "cell_type": "code",
   "execution_count": null,
   "id": "915351ba",
   "metadata": {},
   "outputs": [],
   "source": [
    "\n",
    "# 🔹 4. Subir datos de prueba (CSV)\n",
    "print(\"Sube el archivo CSV con los datos de prueba\")\n",
    "uploaded_data = files.upload()\n",
    "df = pd.read_csv(list(uploaded_data.keys())[0])\n",
    "df['Fecha'] = pd.to_datetime(df['Fecha'], errors='coerce')\n",
    "df = df.dropna(subset=['Fecha', 'TPH_SACRIFICIO', 'TPH_SAG', 'NIVEL_DCM'])\n",
    "print(\"✅ Datos cargados correctamente\")\n",
    "df.head()\n"
   ]
  },
  {
   "cell_type": "code",
   "execution_count": null,
   "id": "e7df991d",
   "metadata": {},
   "outputs": [],
   "source": [
    "\n",
    "# 🔹 5. Preparar entradas y predecir\n",
    "X = df[['TPH_SACRIFICIO', 'TPH_SAG', 'NIVEL_DCM']]\n",
    "df['Nivel_Predicho_1h'] = modelo.predict(X)\n",
    "df[['Fecha', 'NIVEL_DCM', 'Nivel_Predicho_1h']].head()\n"
   ]
  },
  {
   "cell_type": "code",
   "execution_count": null,
   "id": "d2619d85",
   "metadata": {},
   "outputs": [],
   "source": [
    "\n",
    "# 🔹 6. Graficar comparación (primeros 300 puntos)\n",
    "plt.figure(figsize=(14,6))\n",
    "plt.plot(df['NIVEL_DCM'].values[:300], label='Nivel Real', linewidth=2)\n",
    "plt.plot(df['Nivel_Predicho_1h'].values[:300], label='Nivel Predicho (1h adelante)', linestyle='--', linewidth=2)\n",
    "plt.xlabel(\"Tiempo (índice de muestra)\")\n",
    "plt.ylabel(\"Nivel\")\n",
    "plt.title(\"Predicción de Nivel a 1 Hora Adelante\")\n",
    "plt.legend()\n",
    "plt.grid(True)\n",
    "plt.show()\n"
   ]
  }
 ],
 "metadata": {},
 "nbformat": 4,
 "nbformat_minor": 5
}
